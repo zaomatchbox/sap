{
 "cells": [
  {
   "cell_type": "code",
   "execution_count": 37,
   "metadata": {},
   "outputs": [],
   "source": [
    "import random\n",
    "from deap import base, creator, tools\n",
    "import deap\n",
    "import numpy as np"
   ]
  },
  {
   "cell_type": "code",
   "execution_count": 42,
   "metadata": {
    "collapsed": true
   },
   "outputs": [],
   "source": [
    "def eval_func(individual):\n",
    "    res = 0\n",
    "    mid = np.mean(individual)\n",
    "    count = sum([1 if v > mid else 0 for v in individual])\n",
    "    left = individual[:count]\n",
    "    right = individual[count:]\n",
    "    for _ in left:\n",
    "        res += _ if _ > mid else 0\n",
    "    for _ in right:\n",
    "        res += 2 * _ if _ < mid else 0\n",
    "    return res\n",
    "#     target_sum = 15\n",
    "#     return len(individual) - abs(sum(individual) - target_sum)\n",
    "\n",
    "def create_toolbox(num_bits):\n",
    "    creator.create(\"FitnessMax\", base.Fitness, weights=(1.0,))\n",
    "    creator.create(\"Individual\", list, fitness=creator.FitnessMax)\n",
    "    \n",
    "    toolbox = base.Toolbox()\n",
    "    toolbox.register(\"attr_bool\", random.randint, 0, 1)\n",
    "    toolbox.register(\"individual\", tools.initRepeat, creator.Individual, toolbox.attr_bool, num_bits)\n",
    "    toolbox.register(\"population\", tools.initRepeat, list, toolbox.individual)\n",
    "    \n",
    "    toolbox.register('evaluate', eval_func)\n",
    "    toolbox.register('mate', tools.cxTwoPoint)\n",
    "    toolbox.register('mutate', tools.mutFlipBit, indpb=0.05)\n",
    "    \n",
    "    toolbox.register(\"select\", tools.selTournament, tournsize=3)\n",
    "    return toolbox"
   ]
  },
  {
   "cell_type": "code",
   "execution_count": 43,
   "metadata": {},
   "outputs": [
    {
     "name": "stdout",
     "output_type": "stream",
     "text": [
      "\n",
      "Evolution process starts\n"
     ]
    }
   ],
   "source": [
    "num_bits = 45\n",
    "toolbox = create_toolbox(num_bits)\n",
    "random.seed(7)\n",
    "population = toolbox.population(n=500)\n",
    "probab_crossing, probab_mutating = 0.5, 0.2\n",
    "num_generations = 10\n",
    "print('\\nEvolution process starts')"
   ]
  },
  {
   "cell_type": "code",
   "execution_count": 44,
   "metadata": {},
   "outputs": [
    {
     "name": "stdout",
     "output_type": "stream",
     "text": [
      "('\\nEvaluated', 500, 'individuals')\n",
      "('\\n- Generation', 0)\n",
      "('Evaluated', 500, 'individuals')\n",
      "('Min =', 33.0, ', Max =', 45.0)\n",
      "('Average =', 40.16, ', Standard deviation =', 2.53)\n",
      "\n",
      "- Evolution ends\n",
      "('\\n- Generation', 1)\n",
      "('Evaluated', 500, 'individuals')\n",
      "('Min =', 33.0, ', Max =', 45.0)\n",
      "('Average =', 42.16, ', Standard deviation =', 2.02)\n",
      "\n",
      "- Evolution ends\n",
      "('\\n- Generation', 2)\n",
      "('Evaluated', 500, 'individuals')\n",
      "('Min =', 38.0, ', Max =', 45.0)\n",
      "('Average =', 43.34, ', Standard deviation =', 1.36)\n",
      "\n",
      "- Evolution ends\n",
      "('\\n- Generation', 3)\n",
      "('Evaluated', 500, 'individuals')\n",
      "('Min =', 38.0, ', Max =', 45.0)\n",
      "('Average =', 43.73, ', Standard deviation =', 1.27)\n",
      "\n",
      "- Evolution ends\n",
      "('\\n- Generation', 4)\n",
      "('Evaluated', 500, 'individuals')\n",
      "('Min =', 40.0, ', Max =', 45.0)\n",
      "('Average =', 43.98, ', Standard deviation =', 1.15)\n",
      "\n",
      "- Evolution ends\n",
      "('\\n- Generation', 5)\n",
      "('Evaluated', 500, 'individuals')\n",
      "('Min =', 39.0, ', Max =', 45.0)\n",
      "('Average =', 44.03, ', Standard deviation =', 1.16)\n",
      "\n",
      "- Evolution ends\n",
      "('\\n- Generation', 6)\n",
      "('Evaluated', 500, 'individuals')\n",
      "('Min =', 37.0, ', Max =', 45.0)\n",
      "('Average =', 44.0, ', Standard deviation =', 1.25)\n",
      "\n",
      "- Evolution ends\n",
      "('\\n- Generation', 7)\n",
      "('Evaluated', 500, 'individuals')\n",
      "('Min =', 38.0, ', Max =', 45.0)\n",
      "('Average =', 44.07, ', Standard deviation =', 1.22)\n",
      "\n",
      "- Evolution ends\n",
      "('\\n- Generation', 8)\n",
      "('Evaluated', 500, 'individuals')\n",
      "('Min =', 40.0, ', Max =', 45.0)\n",
      "('Average =', 44.19, ', Standard deviation =', 1.07)\n",
      "\n",
      "- Evolution ends\n",
      "('\\n- Generation', 9)\n",
      "('Evaluated', 500, 'individuals')\n",
      "('Min =', 38.0, ', Max =', 45.0)\n",
      "('Average =', 44.19, ', Standard deviation =', 1.09)\n",
      "\n",
      "- Evolution ends\n"
     ]
    }
   ],
   "source": [
    "fitnesses = list(map(toolbox.evaluate, population))\n",
    "for ind, fit in zip(population, fitnesses):\n",
    "    ind.fitness.values = (fit,)\n",
    "print('\\nEvaluated', len(population), 'individuals')\n",
    "for g in range(num_generations):\n",
    "    print(\"\\n- Generation\", g)\n",
    "\n",
    "    offspring = toolbox.select(population, len(population))\n",
    "    offspring = list(map(toolbox.clone, offspring))\n",
    "    for child1, child2 in zip(offspring[::2], offspring[1::2]):\n",
    "        if random.random() < probab_crossing:\n",
    "            toolbox.mate(child1, child2)\n",
    "\n",
    "        del child1.fitness.values\n",
    "        del child2.fitness.values\n",
    "\n",
    "    for mutant in offspring:\n",
    "        if random.random() < probab_mutating:\n",
    "            toolbox.mutate(mutant)\n",
    "        del mutant.fitness.values\n",
    "    invalid_ind = [ind for ind in offspring if not ind.fitness.valid]\n",
    "    fitnesses = map(toolbox.evaluate, invalid_ind)\n",
    "    for ind, fit in zip(invalid_ind, fitnesses):\n",
    "        ind.fitness.values = (fit, )\n",
    "    print('Evaluated', len(invalid_ind), 'individuals')\n",
    "    population[:] = offspring\n",
    "    fits = [ind.fitness.values[0] for ind in population]\n",
    "    length = len(population)\n",
    "    mean = sum(fits) / length\n",
    "    sum2 = sum(x * x for x in fits)\n",
    "    std = abs(sum2 / length - mean ** 2) ** 0.5\n",
    "    print('Min =', min(fits), ', Max =', max(fits))\n",
    "    print('Average =', round(mean, 2), ', Standard deviation =', round(std, 2))\n",
    "    print(\"\\n- Evolution ends\")"
   ]
  },
  {
   "cell_type": "code",
   "execution_count": null,
   "metadata": {},
   "outputs": [],
   "source": []
  },
  {
   "cell_type": "code",
   "execution_count": 45,
   "metadata": {},
   "outputs": [
    {
     "name": "stdout",
     "output_type": "stream",
     "text": [
      "('\\nBest individual:\\n', [0, 0, 1, 0, 1, 0, 1, 1, 0, 0, 0, 0, 1, 1, 0, 0, 1, 0, 0, 0, 1, 0, 0, 1, 1, 1, 0, 0, 0, 1, 0, 0, 1, 0, 0, 0, 0, 0, 1, 0, 0, 1, 0, 0, 0])\n",
      "('\\nNumber of ones:', 15)\n"
     ]
    }
   ],
   "source": [
    "best_ind = tools.selBest(population, 1)[0]\n",
    "print('\\nBest individual:\\n', best_ind)\n",
    "print('\\nNumber of ones:', sum(best_ind))"
   ]
  },
  {
   "cell_type": "code",
   "execution_count": null,
   "metadata": {
    "collapsed": true
   },
   "outputs": [],
   "source": []
  },
  {
   "cell_type": "code",
   "execution_count": null,
   "metadata": {
    "collapsed": true
   },
   "outputs": [],
   "source": []
  },
  {
   "cell_type": "code",
   "execution_count": null,
   "metadata": {
    "collapsed": true
   },
   "outputs": [],
   "source": []
  }
 ],
 "metadata": {
  "kernelspec": {
   "display_name": "Python 2",
   "language": "python",
   "name": "python2"
  },
  "language_info": {
   "codemirror_mode": {
    "name": "ipython",
    "version": 2
   },
   "file_extension": ".py",
   "mimetype": "text/x-python",
   "name": "python",
   "nbconvert_exporter": "python",
   "pygments_lexer": "ipython2",
   "version": "2.7.13"
  }
 },
 "nbformat": 4,
 "nbformat_minor": 2
}
