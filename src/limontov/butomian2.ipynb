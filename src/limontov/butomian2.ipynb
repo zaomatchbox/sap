{
 "cells": [
  {
   "cell_type": "code",
   "execution_count": 29,
   "metadata": {},
   "outputs": [],
   "source": [
    "from __future__ import division\n",
    "import nltk, re, pprint\n",
    "from nltk import word_tokenize\n",
    "from urllib import urlopen\n",
    "from bs4 import BeautifulSoup\n",
    "import feedparser\n",
    "from nltk.corpus import gutenberg, nps_chat, stopwords\n",
    "from nltk.stem import WordNetLemmatizer\n",
    "from collections import Counter\n",
    "import math"
   ]
  },
  {
   "cell_type": "code",
   "execution_count": null,
   "metadata": {
    "collapsed": true
   },
   "outputs": [],
   "source": [
    "url = \"http://www.gutenberg.org/files/2554/2554-0.txt\"\n",
    "response = urlopen(url)\n",
    "raw = response.read().decode('utf8')"
   ]
  },
  {
   "cell_type": "code",
   "execution_count": 35,
   "metadata": {},
   "outputs": [
    {
     "name": "stdout",
     "output_type": "stream",
     "text": [
      "[u'\\ufeffThe', u'Project', u'Gutenberg', u'EBook', u'of', u'Crime', u'and', u'Punishment', u',', u'by']\n"
     ]
    }
   ],
   "source": [
    "tokenizer = nltk.data.load('tokenizers/punkt/english.pickle')\n",
    "# tokens = tokenizer.tokenize(raw)\n",
    "tokens = word_tokenize(raw)\n",
    "print tokens[:10]"
   ]
  },
  {
   "cell_type": "code",
   "execution_count": 36,
   "metadata": {},
   "outputs": [
    {
     "name": "stdout",
     "output_type": "stream",
     "text": [
      "[u'\\ufeffThe', u'Project', u'Gutenberg', u'EBook', u'of', u'Crime', u'and', u'Punishment', u',', u'by']\n"
     ]
    }
   ],
   "source": [
    "lemmatizer = WordNetLemmatizer()\n",
    "lem_tokens = [lemmatizer.lemmatize(token) for token in tokens]\n",
    "print lem_tokens[:10]"
   ]
  },
  {
   "cell_type": "code",
   "execution_count": 37,
   "metadata": {},
   "outputs": [
    {
     "name": "stdout",
     "output_type": "stream",
     "text": [
      "[u'\\ufeffThe', u'Project', u'Gutenberg', u'EBook', u'Crime', u'Punishment', u',', u'Fyodor', u'Dostoevsky', u'This']\n"
     ]
    }
   ],
   "source": [
    "stop_words = stopwords.words('english')\n",
    "stop_tokens = [token for token in tokens if token not in stop_words]\n",
    "print stop_tokens[:10]"
   ]
  },
  {
   "cell_type": "code",
   "execution_count": 38,
   "metadata": {},
   "outputs": [
    {
     "data": {
      "text/plain": [
       "Counter({u'fawn': 1,\n",
       "         u'succour': 1,\n",
       "         u'writings': 1,\n",
       "         u'nunnery': 1,\n",
       "         u'yellow': 27,\n",
       "         u'four': 26,\n",
       "         u'Does': 7,\n",
       "         u'clotted': 1,\n",
       "         u'spiders': 2,\n",
       "         u'hanging': 15,\n",
       "         u'self-reliant': 1,\n",
       "         u'Foundation': 23,\n",
       "         u'Livingstone': 1,\n",
       "         u'_might_': 1,\n",
       "         u'rupture': 7,\n",
       "         u'rouse': 4,\n",
       "         u'Fetch': 1,\n",
       "         u'originality': 1,\n",
       "         u'superficially': 1,\n",
       "         u'unnecessarily': 1,\n",
       "         u'meadows': 1,\n",
       "         u'sinking': 4,\n",
       "         u'impertinent': 1,\n",
       "         u'fogeys': 1,\n",
       "         u'serfdom.': 1,\n",
       "         u'Katia.': 1,\n",
       "         u'uncertain': 5,\n",
       "         u'stabbed': 5,\n",
       "         u'bringing': 14,\n",
       "         u'disturb': 6,\n",
       "         u'recollections': 2,\n",
       "         u'uttering': 12,\n",
       "         u'prize': 2,\n",
       "         u'buttonhole': 1,\n",
       "         u'protest': 14,\n",
       "         u'persisted': 8,\n",
       "         u's/he': 1,\n",
       "         u'Evidently': 2,\n",
       "         u'specially': 2,\n",
       "         u'tired': 17,\n",
       "         u'railing': 5,\n",
       "         u'Some': 26,\n",
       "         u'pulse': 3,\n",
       "         u'elegant': 2,\n",
       "         u'second': 55,\n",
       "         u'consenting': 2,\n",
       "         u'scraped': 1,\n",
       "         u'loathing': 6,\n",
       "         u'haughtily': 3,\n",
       "         u'easy-chair': 1,\n",
       "         u'errors': 1,\n",
       "         u'thunder': 5,\n",
       "         u'nature.': 2,\n",
       "         u'cooking': 1,\n",
       "         u'contributed': 1,\n",
       "         u'fingers': 14,\n",
       "         u'excellency': 9,\n",
       "         u'report.': 1,\n",
       "         u'increasing': 4,\n",
       "         u'exclamations': 7,\n",
       "         u'shocks': 1,\n",
       "         u'specialist': 1,\n",
       "         u'insinuation': 2,\n",
       "         u'dumbfoundered': 1,\n",
       "         u'unseemly': 10,\n",
       "         u'Wanderers': 1,\n",
       "         u'reported': 2,\n",
       "         u'china': 1,\n",
       "         u'hers': 6,\n",
       "         u'shriek': 2,\n",
       "         u'strewn': 2,\n",
       "         u'pretensions': 1,\n",
       "         u'elaborate': 1,\n",
       "         u'unchildish': 2,\n",
       "         u'reports': 2,\n",
       "         u'NOT': 2,\n",
       "         u'military': 5,\n",
       "         u'spotty': 2,\n",
       "         u'criticism': 4,\n",
       "         u'golden': 1,\n",
       "         u'swan': 1,\n",
       "         u'owed': 4,\n",
       "         u'Recalling': 2,\n",
       "         u'explained': 26,\n",
       "         u'Three': 4,\n",
       "         u'summons': 2,\n",
       "         u'brought': 78,\n",
       "         u'anywhere.': 1,\n",
       "         u'stern': 11,\n",
       "         u'presents': 7,\n",
       "         u'cherishing': 1,\n",
       "         u'spoke': 33,\n",
       "         u'untie': 2,\n",
       "         u'therefore': 14,\n",
       "         u'passport': 4,\n",
       "         u'violently': 15,\n",
       "         u'strike': 10,\n",
       "         u'until': 7,\n",
       "         u'paperwork': 1,\n",
       "         u'holy': 5,\n",
       "         u'successful': 4,\n",
       "         u'brings': 3,\n",
       "         u'vocation': 2,\n",
       "         u'whirling': 3,\n",
       "         u'hurt': 5,\n",
       "         u'glass': 31,\n",
       "         u'90': 2,\n",
       "         u'hole': 15,\n",
       "         u'hold': 38,\n",
       "         u'gashed': 1,\n",
       "         u'circumstances': 21,\n",
       "         u'morally': 1,\n",
       "         u'locked': 25,\n",
       "         u'blade': 2,\n",
       "         u'plunged': 4,\n",
       "         u'Gogol': 3,\n",
       "         u'sweeter': 1,\n",
       "         u'leaped': 2,\n",
       "         u'apoplexy': 1,\n",
       "         u'example': 3,\n",
       "         u'expressively': 1,\n",
       "         u'misfortunes': 2,\n",
       "         u'vanities': 1,\n",
       "         u'NOTICE': 1,\n",
       "         u'unjust': 2,\n",
       "         u'household': 2,\n",
       "         u'organized': 1,\n",
       "         u'police-station': 4,\n",
       "         u'caution': 2,\n",
       "         u'want': 184,\n",
       "         u'house-warming': 2,\n",
       "         u'absolute': 2,\n",
       "         u'provincial': 1,\n",
       "         u'groaned': 2,\n",
       "         u'complaining': 3,\n",
       "         u'travel': 2,\n",
       "         u'drying': 1,\n",
       "         u'cigarette.': 1,\n",
       "         u'feature': 1,\n",
       "         u'Killing': 1,\n",
       "         u'Anatomy': 1,\n",
       "         u'how': 395,\n",
       "         u'hot': 13,\n",
       "         u'hesitatingly': 2,\n",
       "         u'significance': 8,\n",
       "         u'Mihail': 2,\n",
       "         u'fanaticism': 3,\n",
       "         u'A': 182,\n",
       "         u'beauty': 7,\n",
       "         u'wrong': 42,\n",
       "         u'destined': 2,\n",
       "         u'Napoleons': 2,\n",
       "         u'short-tempered': 1,\n",
       "         u'outcry': 3,\n",
       "         u'types': 3,\n",
       "         u'matter-of-fact': 1,\n",
       "         u'powder.': 1,\n",
       "         u'effective': 1,\n",
       "         u'endeavoured': 1,\n",
       "         u'post-haste': 1,\n",
       "         u'fleetingly': 1,\n",
       "         u'revolt': 2,\n",
       "         u'presiding': 1,\n",
       "         u'sickening': 3,\n",
       "         u'cigarettes': 3,\n",
       "         u'specks': 1,\n",
       "         u'Another': 10,\n",
       "         u'keeps': 10,\n",
       "         u'nonsensical': 1,\n",
       "         u'samovars': 2,\n",
       "         u'wind': 11,\n",
       "         u'wine': 19,\n",
       "         u'sarcastically': 5,\n",
       "         u'dreamed': 4,\n",
       "         u'reforms': 1,\n",
       "         u'_O': 1,\n",
       "         u'_I': 2,\n",
       "         u'fidelity': 1,\n",
       "         u'dreamer': 1,\n",
       "         u'tallow-candle': 1,\n",
       "         u'His': 115,\n",
       "         u'Hit': 1,\n",
       "         u'maturer': 1,\n",
       "         u'fit': 21,\n",
       "         u'unforeseen': 1,\n",
       "         u'screaming': 6,\n",
       "         u'fix': 6,\n",
       "         u'matured': 1,\n",
       "         u'_j': 1,\n",
       "         u'nobler': 2,\n",
       "         u'hidden': 21,\n",
       "         u'_c': 1,\n",
       "         u'easier': 13,\n",
       "         u'_a': 2,\n",
       "         u'ready.': 1,\n",
       "         u'copying': 4,\n",
       "         u'biding': 1,\n",
       "         u'Pavlovitch': 1,\n",
       "         u'colourless': 2,\n",
       "         u'interrupt': 2,\n",
       "         u'sixteen': 6,\n",
       "         u'silver': 18,\n",
       "         u'_tone_': 1,\n",
       "         u'wooden': 12,\n",
       "         u'spotless': 1,\n",
       "         u'arrow': 2,\n",
       "         u'uninfluenced': 1,\n",
       "         u'blushed': 5,\n",
       "         u'burial': 1,\n",
       "         u'financial': 2,\n",
       "         u'woes': 1,\n",
       "         u'garment': 1,\n",
       "         u'Kapernaumov': 10,\n",
       "         u'spider': 2,\n",
       "         u'solution': 4,\n",
       "         u'depositing': 1,\n",
       "         u'fortnight': 7,\n",
       "         u'cathedral': 1,\n",
       "         u'accused.': 1,\n",
       "         u'blinded': 1,\n",
       "         u'whip': 6,\n",
       "         u'borne': 1,\n",
       "         u'falsity': 1,\n",
       "         u'misfortune': 6,\n",
       "         u'recognising': 3,\n",
       "         u'indiscretion': 1,\n",
       "         u'brutish': 1,\n",
       "         u're': 64,\n",
       "         u'encourage': 2,\n",
       "         u'cheerfully': 1,\n",
       "         u'outburst': 1,\n",
       "         u'foundation': 5,\n",
       "         u'stamping': 1,\n",
       "         u'assured': 7,\n",
       "         u'Work': 1,\n",
       "         u'threatened': 2,\n",
       "         u'sheer': 1,\n",
       "         u'_her_': 1,\n",
       "         u'faculties': 8,\n",
       "         u'tinkled': 1,\n",
       "         u'crowned': 2,\n",
       "         u'obstructing': 1,\n",
       "         u'ate': 6,\n",
       "         u'ANYTHING': 1,\n",
       "         u'Afrosinya': 1,\n",
       "         u'perhaps.': 1,\n",
       "         u'seven.': 1,\n",
       "         u'disturbed': 1,\n",
       "         u'speedy': 1,\n",
       "         u'Human': 1,\n",
       "         u'loudness': 1,\n",
       "         u'purpose': 34,\n",
       "         u'mademoiselle': 3,\n",
       "         u'wasp': 1,\n",
       "         u'disfigured': 1,\n",
       "         u'Please': 15,\n",
       "         u'wash': 4,\n",
       "         u'instruct': 1,\n",
       "         u'wasn': 31,\n",
       "         u'curing': 2,\n",
       "         u'her.': 4,\n",
       "         u'bitten': 1,\n",
       "         u'Sonia': 399,\n",
       "         u'service': 34,\n",
       "         u'timid': 11,\n",
       "         u'engagement': 2,\n",
       "         u'underlip': 1,\n",
       "         u'needed': 12,\n",
       "         u'master': 2,\n",
       "         u'legs': 20,\n",
       "         u'bitter': 14,\n",
       "         u'remote': 3,\n",
       "         u'sure.': 2,\n",
       "         u'listen': 28,\n",
       "         u'agonisingly': 2,\n",
       "         u'exaggerated.': 1,\n",
       "         u'frowned': 5,\n",
       "         u'wisdom': 3,\n",
       "         u'incoherently': 4,\n",
       "         u'asylums': 1,\n",
       "         u'mutilated': 1,\n",
       "         u'was.': 1,\n",
       "         u'_the': 4,\n",
       "         u'positively': 35,\n",
       "         u'showed': 33,\n",
       "         u'coward': 4,\n",
       "         u'tree': 1,\n",
       "         u'rusty': 1,\n",
       "         u'idly': 1,\n",
       "         u'blasphemer': 1,\n",
       "         u'project': 6,\n",
       "         u'idle': 2,\n",
       "         u'exclaimed': 5,\n",
       "         u'endure': 9,\n",
       "         u'spermaceti': 1,\n",
       "         u'feeling': 76,\n",
       "         u'festivity': 2,\n",
       "         u'groaning': 3,\n",
       "         u'lads': 1,\n",
       "         u'spacious': 1,\n",
       "         u'well.': 5,\n",
       "         u'dozed': 1,\n",
       "         u'Son': 1,\n",
       "         u'dozen': 6,\n",
       "         u'Then': 123,\n",
       "         u'regretting': 3,\n",
       "         u'climate': 2,\n",
       "         u'Thee': 2,\n",
       "         u'soaked': 6,\n",
       "         u'eagerly': 13,\n",
       "         u'purchases': 1,\n",
       "         u'recommended': 1,\n",
       "         u'causing': 1,\n",
       "         u'absorbed': 8,\n",
       "         u'amusing': 2,\n",
       "         u'They': 200,\n",
       "         u'horrible-looking': 1,\n",
       "         u'Ask': 3,\n",
       "         u'est_': 1,\n",
       "         u'disdainfully': 1,\n",
       "         u'sensualist': 1,\n",
       "         u'committing': 2,\n",
       "         u'shall': 184,\n",
       "         u'object': 46,\n",
       "         u'hushing': 1,\n",
       "         u'mouth': 20,\n",
       "         u'long.': 1,\n",
       "         u'letter': 64,\n",
       "         u'Logic': 1,\n",
       "         u'retaining': 1,\n",
       "         u'morality': 2,\n",
       "         u'singer': 1,\n",
       "         u'stupid': 43,\n",
       "         u'professor': 1,\n",
       "         u'wreck': 1,\n",
       "         u'Kobelev': 1,\n",
       "         u'Lisbon': 1,\n",
       "         u'nineteenth': 1,\n",
       "         u'scream': 10,\n",
       "         u'came': 242,\n",
       "         u'crowbar': 2,\n",
       "         u'saying': 50,\n",
       "         u'signatures': 2,\n",
       "         u'departing': 1,\n",
       "         u'meetings': 3,\n",
       "         u'Zimmerman': 1,\n",
       "         u'Darya': 4,\n",
       "         u'\\u2018': 276,\n",
       "         u'tempted': 6,\n",
       "         u'vindictive': 5,\n",
       "         u'lessons': 17,\n",
       "         u'touches': 1,\n",
       "         u'busy': 16,\n",
       "         u'Barefoot': 1,\n",
       "         u'Reaching': 2,\n",
       "         u'will': 531,\n",
       "         u'buxom': 2,\n",
       "         u'than': 181,\n",
       "         u'bush': 4,\n",
       "         u'bliss': 1,\n",
       "         u'touched': 8,\n",
       "         u'rich': 13,\n",
       "         u'upbraiding': 1,\n",
       "         u'mend': 1,\n",
       "         u'rice': 3,\n",
       "         u'emphatically': 6,\n",
       "         u'plate': 4,\n",
       "         u'wide': 28,\n",
       "         u'stammered': 1,\n",
       "         u'terrors': 2,\n",
       "         u'foremost': 2,\n",
       "         u'pocket': 55,\n",
       "         u'_bonne': 1,\n",
       "         u'clumsiness': 1,\n",
       "         u'altogether': 21,\n",
       "         u'X': 6,\n",
       "         u'relish': 6,\n",
       "         u'spilling': 1,\n",
       "         u'nicely': 4,\n",
       "         u'Creator': 1,\n",
       "         u'SEND': 1,\n",
       "         u'eyelids': 2,\n",
       "         u'lurched': 2,\n",
       "         u'them.': 10,\n",
       "         u'hasten': 2,\n",
       "         u'circling': 4,\n",
       "         u'respond': 1,\n",
       "         u'blew': 2,\n",
       "         u'disaster': 1,\n",
       "         u'fair': 6,\n",
       "         u'guerre': 3,\n",
       "         u'_You_': 1,\n",
       "         u'unexpectedly': 8,\n",
       "         u'naturalness': 1,\n",
       "         u'flaxen': 6,\n",
       "         u'result': 3,\n",
       "         u'smirched': 1,\n",
       "         u'fail': 11,\n",
       "         u'John': 3,\n",
       "         u'best': 26,\n",
       "         u'sooner': 10,\n",
       "         u'playfulness': 1,\n",
       "         u'lots': 3,\n",
       "         u'rings': 5,\n",
       "         u'solicitude': 2,\n",
       "         u'lodgings.': 2,\n",
       "         u'score': 5,\n",
       "         u'preserve': 4,\n",
       "         u'interrupting': 4,\n",
       "         u'_en': 1,\n",
       "         u'nature': 28,\n",
       "         u'rolled': 2,\n",
       "         u'twinkling': 1,\n",
       "         u'here': 284,\n",
       "         u'extent': 3,\n",
       "         u'defiance': 2,\n",
       "         u'debt': 13,\n",
       "         u'_et': 1,\n",
       "         u'pity': 18,\n",
       "         u'accident': 10,\n",
       "         u'sacrificing': 4,\n",
       "         u'disdain': 2,\n",
       "         u'country': 26,\n",
       "         u'damsels': 1,\n",
       "         u'adventures': 1,\n",
       "         u'askew': 1,\n",
       "         u'Playful': 1,\n",
       "         u'planned': 2,\n",
       "         u'logic': 2,\n",
       "         u'argue': 1,\n",
       "         u'tinge': 2,\n",
       "         u'asked': 187,\n",
       "         u'eradicate': 1,\n",
       "         u'absent-mindedly': 1,\n",
       "         u'mortified': 1,\n",
       "         u'unbuttoned': 2,\n",
       "         u'vain': 4,\n",
       "         u'money.': 1,\n",
       "         u'//www.gutenberg.org/2/5/5/2554/': 1,\n",
       "         u'basque': 1,\n",
       "         u'humming': 1,\n",
       "         u'Method': 1,\n",
       "         u'Instantly': 2,\n",
       "         u'self-confidence': 3,\n",
       "         u'angel': 7,\n",
       "         u'remained': 31,\n",
       "         u'subside': 2,\n",
       "         u'criticised': 1,\n",
       "         u'.': 9589,\n",
       "         u'breathlessly': 1,\n",
       "         u'much': 183,\n",
       "         u'privilege': 1,\n",
       "         u'exactness': 1,\n",
       "         u'life': 135,\n",
       "         u'First-rate': 1,\n",
       "         u'persecute': 1,\n",
       "         u'spit': 4,\n",
       "         u'snap': 1,\n",
       "         u'lift': 5,\n",
       "         u'doubts': 5,\n",
       "         u'worked': 16,\n",
       "         u'jeeringly': 1,\n",
       "         u'chill': 7,\n",
       "         u'manes': 1,\n",
       "         u'contemplated': 1,\n",
       "         u'administrative': 2,\n",
       "         u'contingencies': 1,\n",
       "         u'dram-shop': 1,\n",
       "         u'prostrate': 1,\n",
       "         u'flooding': 1,\n",
       "         u'skirts': 1,\n",
       "         u'remembering': 11,\n",
       "         u'thing_': 1,\n",
       "         u'played': 3,\n",
       "         u'piercing': 3,\n",
       "         u'Painters': 1,\n",
       "         u'dreadfully.': 1,\n",
       "         u'eighteen': 4,\n",
       "         u'anticipating': 2,\n",
       "         u'Capital': 1,\n",
       "         u'violin': 1,\n",
       "         u'trusted': 1,\n",
       "         u'memorial': 4,\n",
       "         u'feebler': 1,\n",
       "         u'severity': 4,\n",
       "         u'things': 109,\n",
       "         u'woollen': 2,\n",
       "         u'any': 173,\n",
       "         u'split': 2,\n",
       "         u'babies': 1,\n",
       "         u'visitations': 1,\n",
       "         u'emphatic': 2,\n",
       "         u'consequence': 13,\n",
       "         u'eBooks': 7,\n",
       "         u'fairly': 16,\n",
       "         u'boiled': 3,\n",
       "         u'kitchen-table': 1,\n",
       "         u'ringleaders': 1,\n",
       "         u'Maybe': 7,\n",
       "         u'tops': 1,\n",
       "         u'lev\\xe9es.': 1,\n",
       "         u'supper': 1,\n",
       "         u'Persia': 1,\n",
       "         u'_dare_': 2,\n",
       "         u'tune': 1,\n",
       "         u'peremptory': 1,\n",
       "         u'askance': 3,\n",
       "         u'redeem': 3,\n",
       "         u'echoed': 2,\n",
       "         u'_blunder_': 1,\n",
       "         u'stillness': 2,\n",
       "         u'lonelier': 1,\n",
       "         u'Svirbey': 1,\n",
       "         u'veal.': 1,\n",
       "         u'opinions': 3,\n",
       "         u'Thank': 12,\n",
       "         u'sleeps': 3,\n",
       "         u'appropriately': 1,\n",
       "         u'distribute': 5,\n",
       "         u'sleepy': 1,\n",
       "         u'forsaken': 1,\n",
       "         u'disguise': 2,\n",
       "         u'ungovernable': 1,\n",
       "         u'exclaiming': 3,\n",
       "         u'rushing': 6,\n",
       "         u'previous': 22,\n",
       "         u'wandered': 3,\n",
       "         u'Such': 10,\n",
       "         u'spectacles': 1,\n",
       "         u'dining': 3,\n",
       "         u'step.': 1,\n",
       "         u'old-fashioned': 5,\n",
       "         u'had': 1573,\n",
       "         u'hag': 4,\n",
       "         u'hay': 6,\n",
       "         u'Surely': 7,\n",
       "         u'easy': 8,\n",
       "         u'prison': 32,\n",
       "         u'has': 382,\n",
       "         u'hat': 37,\n",
       "         u'good-humoured': 5,\n",
       "         u'Avdotya': 115,\n",
       "         u'lock-up': 1,\n",
       "         u'casually': 5,\n",
       "         u'posed': 1,\n",
       "         u'possible': 56,\n",
       "         u'firmer': 1,\n",
       "         u'possibly': 15,\n",
       "         u'birth': 3,\n",
       "         u'shadow': 3,\n",
       "         u'unique': 1,\n",
       "         u'opinion.': 1,\n",
       "         u'tambourine': 1,\n",
       "         u'desire': 30,\n",
       "         u'psychological': 7,\n",
       "         u'articulated': 10,\n",
       "         u'cart-horses': 2,\n",
       "         u'Schleswig-Holstein': 1,\n",
       "         u'remind': 2,\n",
       "         u'pavement': 22,\n",
       "         u'steps': 48,\n",
       "         u'OF': 10,\n",
       "         u'Further': 1,\n",
       "         u'beneficial': 1,\n",
       "         u'right': 214,\n",
       "         u'old': 201,\n",
       "         u'crowd': 56,\n",
       "         u'people': 164,\n",
       "         u'Idiot': 2,\n",
       "         u'creed': 1,\n",
       "         u'crown': 1,\n",
       "         u'begin': 48,\n",
       "         u'th\\xe9orie': 1,\n",
       "         u'sure': 62,\n",
       "         u'insistence': 2,\n",
       "         u'stealthily': 4,\n",
       "         u'left.': 2,\n",
       "         u'Bend': 1,\n",
       "         u'creep': 2,\n",
       "         u'enemies': 3,\n",
       "         u'gasps': 1,\n",
       "         u'ruffled': 1,\n",
       "         u'for': 1596,\n",
       "         u'bottom': 10,\n",
       "         u'rehearse': 1,\n",
       "         u'PGLAF': 1,\n",
       "         u'witty': 1,\n",
       "         u'fog': 1,\n",
       "         u'Good-day': 1,\n",
       "         u'summoned': 4,\n",
       "         u'pondered': 7,\n",
       "         u'foo': 2,\n",
       "         u'pinched': 2,\n",
       "         u'shakes': 1,\n",
       "         u'energy': 4,\n",
       "         u'post': 7,\n",
       "         u'losing': 9,\n",
       "         u'bowing': 3,\n",
       "         u'Think': 8,\n",
       "         u'shaken': 4,\n",
       "         u'First': 3,\n",
       "         u'restlessness': 3,\n",
       "         u'predisposition': 1,\n",
       "         u'visitors': 9,\n",
       "         u'Amalia': 68,\n",
       "         u'o': 42,\n",
       "         u'despair': 39,\n",
       "         u'repellent': 1,\n",
       "         u'suggestions': 1,\n",
       "         u'slightly': 7,\n",
       "         u'meddle': 1,\n",
       "         u'ill-founded': 1,\n",
       "         u'match': 8,\n",
       "         u'raised': 33,\n",
       "         u'Boulevard': 2,\n",
       "         u'statements': 1,\n",
       "         u'facility': 1,\n",
       "         u'brutes': 1,\n",
       "         u'son': 18,\n",
       "         u'respectable': 12,\n",
       "         u'beings': 1,\n",
       "         u'magazines': 1,\n",
       "         u'furnishing': 1,\n",
       "         u'reducing': 1,\n",
       "         u'soon': 100,\n",
       "         u'Governor-General': 1,\n",
       "         u'abjectly': 1,\n",
       "         u'despised': 4,\n",
       "         u'waits': 1,\n",
       "         u'support': 11,\n",
       "         u'constantly': 6,\n",
       "         u'Hang': 5,\n",
       "         u'Hand': 1,\n",
       "         u'Pray': 2,\n",
       "         u'grasping': 1,\n",
       "         u'despises': 2,\n",
       "         u'music': 2,\n",
       "         u'happy': 29,\n",
       "         u'waistcoat': 11,\n",
       "         u'offer': 14,\n",
       "         u'fascination': 1,\n",
       "         u'forming': 3,\n",
       "         u'conclusively': 3,\n",
       "         u'hot-tempered': 1,\n",
       "         u'so.': 5,\n",
       "         u'shrilly': 2,\n",
       "         u'talents': 1,\n",
       "         u'wedding-day': 1,\n",
       "         u'kiss.': 1,\n",
       "         u'Seeing': 8,\n",
       "         u'circumstantial': 5,\n",
       "         u'humbled': 3,\n",
       "         u'extremity': 1,\n",
       "         u'inside': 12,\n",
       "         u'devices': 1,\n",
       "         u'Engineering': 1,\n",
       "         u'torturing': 5,\n",
       "         u'smashed': 1,\n",
       "         u'Damn': 13,\n",
       "         u'wait.': 1,\n",
       "         u'feet': 27,\n",
       "         u'examples': 4,\n",
       "         u'suspiciousness': 1,\n",
       "         u'adopt': 1,\n",
       "         u'disgrace': 12,\n",
       "         u'Sit': 8,\n",
       "         u'Six': 3,\n",
       "         u'soothe': 2,\n",
       "         u'proves': 4,\n",
       "         u'exist': 8,\n",
       "         u'tooth': 2,\n",
       "         u'dealer': 1,\n",
       "         u'effusions': 2,\n",
       "         u'protested': 5,\n",
       "         u'smelt': 3,\n",
       "         u'floor': 36,\n",
       "         u'Mayn': 2,\n",
       "         u'uttered': 17,\n",
       "         u'Possibly': 3,\n",
       "         u'momentary': 3,\n",
       "         u'superfluous': 2,\n",
       "         u'roll': 1,\n",
       "         u'intend': 7,\n",
       "         u'recovered': 9,\n",
       "         u'palms': 1,\n",
       "         u'pronounced': 10,\n",
       "         u'ointment': 1,\n",
       "         u'acquaintance': 22,\n",
       "         u'intent': 4,\n",
       "         u'smelling': 2,\n",
       "         u'rolling': 2,\n",
       "         u'Pyotr': 173,\n",
       "         u'transfigured': 1,\n",
       "         u'fastened': 8,\n",
       "         u'Inform': 1,\n",
       "         u'wineglassful': 1,\n",
       "         u'sniffed': 1,\n",
       "         u'good-natured': 9,\n",
       "         u'Madeira': 2,\n",
       "         u'time': 375,\n",
       "         u'push': 2,\n",
       "         u'overturned': 1,\n",
       "         u'shrieking': 4,\n",
       "         u'breadth': 1,\n",
       "         u'chain': 6,\n",
       "         u'whoever': 1,\n",
       "         u'fawned': 1,\n",
       "         u'chair': 53,\n",
       "         u'shod.': 1,\n",
       "         u'Proudhon': 1,\n",
       "         u'Duclida': 1,\n",
       "         u'bribes': 2,\n",
       "         u'rousing': 4,\n",
       "         u'reverting': 1,\n",
       "         u'Phew': 1,\n",
       "         u'copse': 1,\n",
       "         u'splutter': 1,\n",
       "         u'persevere': 1,\n",
       "         u'downloading': 1,\n",
       "         u'risky': 1,\n",
       "         u'Polenka': 44,\n",
       "         u'choice': 2,\n",
       "         u'gloomy': 25,\n",
       "         u'DAMAGES': 2,\n",
       "         u'five-and-thirty': 1,\n",
       "         u'fullest': 1,\n",
       "         u'fretting': 3,\n",
       "         u'exact': 3,\n",
       "         u'minute': 113,\n",
       "         u'fainting': 8,\n",
       "         u'cooks': 2,\n",
       "         u'Tap': 1,\n",
       "         u'tear': 3,\n",
       "         u'leave': 59,\n",
       "         u'solved': 1,\n",
       "         u'coincidences': 1,\n",
       "         u'resolutely': 12,\n",
       "         u'inscribed': 1,\n",
       "         u'D-damn': 1,\n",
       "         u'unaware': 1,\n",
       "         u'sixty-five': 1,\n",
       "         u'prevent': 8,\n",
       "         u'spiritual': 2,\n",
       "         u'occurrence': 1,\n",
       "         u'insignificant': 2,\n",
       "         u'attic': 2,\n",
       "         u'sigh': 3,\n",
       "         u'sign': 20,\n",
       "         u'shirts': 4,\n",
       "         u'kindliness': 1,\n",
       "         u'coppers': 5,\n",
       "         u'_familiar_': 1,\n",
       "         u'cleanliness': 2,\n",
       "         u'axes': 1,\n",
       "         u'current': 4,\n",
       "         u'pruning-knife': 1,\n",
       "         u'lazily': 4,\n",
       "         u'falling': 8,\n",
       "         u'ground': 26,\n",
       "         u'presence.': 1,\n",
       "         u'unintentionally': 1,\n",
       "         u'Me': 7,\n",
       "         u'Dagestan': 2,\n",
       "         u'shirt.': 1,\n",
       "         u'honour': 34,\n",
       "         u'funeral': 30,\n",
       "         u'understanding': 14,\n",
       "         u'yards': 8,\n",
       "         u'Mr': 2,\n",
       "         u'witticism': 1,\n",
       "         u'along': 51,\n",
       "         u'My': 48,\n",
       "         u'passengers': 1,\n",
       "         u'brilliant': 5,\n",
       "         u'studied': 2,\n",
       "         u'wherever': 3,\n",
       "         u'Mere': 1,\n",
       "         u'accomplished': 1,\n",
       "         u'Neva': 15,\n",
       "         u'axe.': 2,\n",
       "         u'studies': 5,\n",
       "         u'concealed': 6,\n",
       "         u'love': 72,\n",
       "         u'_Weekly': 3,\n",
       "         u'bowled': 1,\n",
       "         u'READ': 1,\n",
       "         u'radish': 2,\n",
       "         u'Defend': 3,\n",
       "         u'prefer': 3,\n",
       "         u'logical': 8,\n",
       "         u'Enough': 12,\n",
       "         u'betraying': 1,\n",
       "         u'logically': 2,\n",
       "         u'flagging': 1,\n",
       "         u'undergone': 3,\n",
       "         u'huskily': 1,\n",
       "         u'working': 17,\n",
       "         u'positive': 13,\n",
       "         u'angry': 48,\n",
       "         u'pelisse': 1,\n",
       "         u'only': 420,\n",
       "         u'tightly': 5,\n",
       "         u'vigour': 1,\n",
       "         u'Royalty': 2,\n",
       "         u'opposed': 2,\n",
       "         u'wondering': 12,\n",
       "         u'Positive': 1,\n",
       "         u'_assez': 1,\n",
       "         u'Those': 3,\n",
       "         u'loving': 1,\n",
       "         u'scratched': 1,\n",
       "         u'introducing': 3,\n",
       "         u'believe_': 1,\n",
       "         u'consoled': 1,\n",
       "         u'afford': 1,\n",
       "         u'apparent': 9,\n",
       "         u'refrain': 3,\n",
       "         u'everywhere': 10,\n",
       "         u'degrade': 1,\n",
       "         u'easiest': 1,\n",
       "         u'Crucify': 1,\n",
       "         u'rebounding': 1,\n",
       "         u'preponderance': 1,\n",
       "         u'dreaded': 6,\n",
       "         u'pretend': 1,\n",
       "         u'imagination.': 1,\n",
       "         u'inflamed': 1,\n",
       "         u'believes': 2,\n",
       "         u'printing': 2,\n",
       "         u'believed': 14,\n",
       "         u'Our': 4,\n",
       "         u'con-so-la-tion': 1,\n",
       "         u'Out': 3,\n",
       "         u'admired': 4,\n",
       "         u'greatcoat': 3,\n",
       "         u'locks': 2,\n",
       "         u'laughing-stock': 2,\n",
       "         u'allowed': 8,\n",
       "         u'stole': 9,\n",
       "         u'evidently': 18,\n",
       "         u'kindness.': 1,\n",
       "         u'listens': 2,\n",
       "         u'winter': 6,\n",
       "         u'divided': 5,\n",
       "         u'Who': 37,\n",
       "         u'poking': 2,\n",
       "         u'Hullo': 1,\n",
       "         u'thanking': 3,\n",
       "         u'ruder': 1,\n",
       "         u's.': 2,\n",
       "         u'Zara\\xefsky': 1,\n",
       "         u'loathe': 1,\n",
       "         u'Why': 244,\n",
       "         u'undertook': 2,\n",
       "         u'listen.': 2,\n",
       "         u'cock-sparrow': 3,\n",
       "         u'laundry': 1,\n",
       "         u'spot': 19,\n",
       "         u'louder': 5,\n",
       "         u'date': 7,\n",
       "         u'such': 276,\n",
       "         u'filthy': 8,\n",
       "         u'brainless': 1,\n",
       "         u'stress': 4,\n",
       "         u'Katia': 5,\n",
       "         u'natural': 22,\n",
       "         u'mangy': 1,\n",
       "         u'conscious': 18,\n",
       "         u'yielding': 1,\n",
       "         u'_useful_': 1,\n",
       "         u'si': 1,\n",
       "         u'so': 795,\n",
       "         u'swollen': 5,\n",
       "         u'pulled': 36,\n",
       "         u'unmasked': 1,\n",
       "         u'se': 1,\n",
       "         u'drunken': 31,\n",
       "         u'unsolicited': 1,\n",
       "         u'noteworthy': 2,\n",
       "         u'differences': 1,\n",
       "         u'epilepsy': 1,\n",
       "         u'years': 94,\n",
       "         u'course': 168,\n",
       "         u'episodes': 1,\n",
       "         u'experiments': 1,\n",
       "         u'quarrelled': 9,\n",
       "         u'ungentlemanly': 4,\n",
       "         u'omitting': 1,\n",
       "         u'razors': 1,\n",
       "         u'\\u201c': 3991,\n",
       "         u'tendency': 4,\n",
       "         u'tore': 7,\n",
       "         u'solitary': 7,\n",
       "         u'limbs': 1,\n",
       "         u'derive': 2,\n",
       "         u'yawning': 2,\n",
       "         u'haughty': 11,\n",
       "         u'torn': 15,\n",
       "         u'troubles': 1,\n",
       "         u'stupidity': 8,\n",
       "         u'councillor': 1,\n",
       "         u'attraction': 2,\n",
       "         u'suspicion': 30,\n",
       "         u'revulsion': 3,\n",
       "         u'constitutes': 2,\n",
       "         u'troubled': 8,\n",
       "         u'hareskin': 1,\n",
       "         u'petition': 1,\n",
       "         u'mused': 1,\n",
       "         u'modestly': 2,\n",
       "         u'Buch': 1,\n",
       "         u'_your': 2,\n",
       "         u'thereby': 2,\n",
       "         u'civilian': 2,\n",
       "         u'matches': 2,\n",
       "         u'bashful': 3,\n",
       "         u'Young': 1,\n",
       "         u'compelled': 3,\n",
       "         u'arriving': 2,\n",
       "         u'reckoning': 16,\n",
       "         u'twilight': 2,\n",
       "         u'maintaining': 1,\n",
       "         u'shouted': 89,\n",
       "         u'didn': 88,\n",
       "         u'_you_': 2,\n",
       "         u'establishing': 1,\n",
       "         u'trouble.': 2,\n",
       "         u'dignified': 3,\n",
       "         u'veins': 1,\n",
       "         u'quarter': 17,\n",
       "         u'workman': 14,\n",
       "         u'Svidrigra\\xeflovs': 1,\n",
       "         u'concertina': 2,\n",
       "         u'square': 11,\n",
       "         u'bursting': 1,\n",
       "         u'whosoever': 1,\n",
       "         u'storeys': 6,\n",
       "         u'crushing': 2,\n",
       "         u'Live': 2,\n",
       "         u'owing': 10,\n",
       "         u'entering': 6,\n",
       "         u'Learned': 1,\n",
       "         u'neighbourhood': 3,\n",
       "         u'crowding': 2,\n",
       "         u'giddy': 3,\n",
       "         u'canvas': 1,\n",
       "         u'Welcome': 2,\n",
       "         u'abide': 1,\n",
       "         u'seriously': 19,\n",
       "         u'investigation': 2,\n",
       "         u'suggesting': 1,\n",
       "         u'squares': 1,\n",
       "         u'manuals': 2,\n",
       "         u'bordering': 1,\n",
       "         u'superiors': 1,\n",
       "         u'hairdresser': 1,\n",
       "         u'siege': 2,\n",
       "         u'million': 3,\n",
       "         u'seventh': 1,\n",
       "         u'possibility': 7,\n",
       "         u'quite': 167,\n",
       "         u'disrespect': 3,\n",
       "         u'inwardly': 4,\n",
       "         u'Either': 4,\n",
       "         u'besides': 35,\n",
       "         u'poems': 1,\n",
       "         u'Viazemsky': 1,\n",
       "         u'seventy': 1,\n",
       "         u'patronage': 1,\n",
       "         u'Money': 2,\n",
       "         u'undisguised': 1,\n",
       "         u'modest': 1,\n",
       "         u'ostrich': 2,\n",
       "         u'distrustfully': 3,\n",
       "         u'husband': 42,\n",
       "         u'neglect': 2,\n",
       "         u'emotion': 9,\n",
       "         u'saving': 3,\n",
       "         u'spoken': 21,\n",
       "         u'one': 579,\n",
       "         u'conscientiously': 1,\n",
       "         u'open': 84,\n",
       "         u'city': 2,\n",
       "         u'boulevard': 4,\n",
       "         u'wrath': 1,\n",
       "         u'penitence': 1,\n",
       "         u'thirdly': 3,\n",
       "         u'bite': 1,\n",
       "         u'presentiments': 1,\n",
       "         u'shiver': 8,\n",
       "         u'stifled': 3,\n",
       "         u'stuffed': 3,\n",
       "         u'La-la': 1,\n",
       "         u'bits': 1,\n",
       "         u'lingering': 2,\n",
       "         u'spared': 4,\n",
       "         u'on.': 5,\n",
       "         u'shawl': 13,\n",
       "         u'copecks': 36,\n",
       "         u'proving': 3,\n",
       "         ...})"
      ]
     },
     "execution_count": 38,
     "metadata": {},
     "output_type": "execute_result"
    }
   ],
   "source": [
    "tf = Counter(tokens)\n",
    "tf"
   ]
  },
  {
   "cell_type": "code",
   "execution_count": null,
   "metadata": {
    "collapsed": true
   },
   "outputs": [],
   "source": [
    "idf = math.log(len(documents) / len([doc_index in range(len(documents))"
   ]
  },
  {
   "cell_type": "code",
   "execution_count": null,
   "metadata": {
    "collapsed": true
   },
   "outputs": [],
   "source": [
    "url = \"http://www.gutenberg.org/files/2554/2554-0.txt\"\n",
    "response = urlopen(url)\n",
    "raw = response.read().decode('utf8')"
   ]
  },
  {
   "cell_type": "code",
   "execution_count": 68,
   "metadata": {},
   "outputs": [
    {
     "name": "stdout",
     "output_type": "stream",
     "text": [
      "[(u'her', 1259.3652318885975), (u'I', 1234.5775469907544), (u'you', 1225.2304759782949), (u'she', 1080.0540662041506), (u'!', 938.5303390210449), (u'...', 877.0929429833963), (u'\\u201c', 844.976641810106), (u'\\u201d', 814.7699884519607), (u'?', 775.039874479882), (u't', 761.4802987885993)]\n",
      "\n",
      "Popular keywords: (u'her', u'I', u'you', u'she', u'!', u'...', u'\\u201c', u'\\u201d', u'?', u't')\n"
     ]
    }
   ],
   "source": [
    "def run_docs(docs):\n",
    "    tf = [0 for _ in docs]\n",
    "    all_tokens = Counter([])\n",
    "    k = 10\n",
    "    for idx, doc in enumerate(docs):\n",
    "        tokens = word_tokenize(doc)\n",
    "\n",
    "        lemmatizer = WordNetLemmatizer()\n",
    "        lem_tokens = [lemmatizer.lemmatize(token) for token in tokens]\n",
    "\n",
    "        stop_words = stopwords.words('english')\n",
    "        stop_tokens = [token for token in tokens if token not in stop_words]\n",
    "\n",
    "        tf[idx] = Counter(tokens)\n",
    "#         print len(tokens)\n",
    "        for t in tokens:\n",
    "            all_tokens[t] += 1\n",
    "#         all_tokens.union(tokens)\n",
    "        \n",
    "    idf = {t: math.log(len(docs) / len([idx for idx, d in enumerate(docs) if tf[idx][t] > 0])) for t in all_tokens}\n",
    "#         idf = {t: math.log(len(docs) / len([doc_index for doc_index in range(len(docs)) if tf[doc_index][t] > 0])) for t in all_tokens}\n",
    "#     for doc in docs:\n",
    "    tfidf = {t: all_tokens[t] * idf[t] for t in all_tokens}\n",
    "    \n",
    "    terms_sorted_tfidf_desc = sorted(tfidf.items(), key=lambda x: -x[1])\n",
    "    print terms_sorted_tfidf_desc[:10]\n",
    "    terms, scores = zip(*terms_sorted_tfidf_desc)\n",
    "    keywords = terms[:k]\n",
    "    return keywords\n",
    "\n",
    "d = len(raw) // 1000\n",
    "docs = [raw[idx:idx + d] for idx in range(0, len(raw), d)]\n",
    "kws = run_docs(docs)\n",
    "print\n",
    "print 'Popular keywords:', kws"
   ]
  },
  {
   "cell_type": "code",
   "execution_count": null,
   "metadata": {},
   "outputs": [],
   "source": []
  },
  {
   "cell_type": "code",
   "execution_count": null,
   "metadata": {},
   "outputs": [],
   "source": []
  },
  {
   "cell_type": "code",
   "execution_count": 6,
   "metadata": {},
   "outputs": [
    {
     "name": "stdout",
     "output_type": "stream",
     "text": [
      "[nltk_data] Downloading package wordnet to\n",
      "[nltk_data]     /Users/chiselko6/nltk_data...\n",
      "[nltk_data]   Unzipping corpora/wordnet.zip.\n"
     ]
    },
    {
     "data": {
      "text/plain": [
       "True"
      ]
     },
     "execution_count": 6,
     "metadata": {},
     "output_type": "execute_result"
    }
   ],
   "source": [
    "# nltk.download('punkt')\n",
    "# nltk.download('stopwords')\n",
    "# nltk.download('gutenberg')\n",
    "# nltk.download('wordnet')"
   ]
  },
  {
   "cell_type": "code",
   "execution_count": 17,
   "metadata": {},
   "outputs": [
    {
     "data": {
      "text/plain": [
       "unicode"
      ]
     },
     "execution_count": 17,
     "metadata": {},
     "output_type": "execute_result"
    }
   ],
   "source": [
    "url = \"http://www.gutenberg.org/files/2554/2554-0.txt\"\n",
    "response = urlopen(url)\n",
    "raw = response.read().decode('utf8')\n",
    "type(raw)"
   ]
  },
  {
   "cell_type": "code",
   "execution_count": 18,
   "metadata": {},
   "outputs": [
    {
     "data": {
      "text/plain": [
       "u'\\ufeffThe Project Gutenberg EBook of Crime and Punishment, by Fyodor Dostoevsky\\r'"
      ]
     },
     "execution_count": 18,
     "metadata": {},
     "output_type": "execute_result"
    }
   ],
   "source": [
    "raw[:75]"
   ]
  },
  {
   "cell_type": "code",
   "execution_count": 19,
   "metadata": {
    "collapsed": true
   },
   "outputs": [],
   "source": [
    "tokens = word_tokenize(raw)"
   ]
  },
  {
   "cell_type": "code",
   "execution_count": 20,
   "metadata": {},
   "outputs": [
    {
     "name": "stdout",
     "output_type": "stream",
     "text": [
      "<type 'list'>\n",
      "257726\n"
     ]
    }
   ],
   "source": [
    "print type(tokens)\n",
    "print len(tokens)"
   ]
  },
  {
   "cell_type": "code",
   "execution_count": 21,
   "metadata": {},
   "outputs": [
    {
     "data": {
      "text/plain": [
       "[u'\\ufeffThe',\n",
       " u'Project',\n",
       " u'Gutenberg',\n",
       " u'EBook',\n",
       " u'of',\n",
       " u'Crime',\n",
       " u'and',\n",
       " u'Punishment',\n",
       " u',',\n",
       " u'by']"
      ]
     },
     "execution_count": 21,
     "metadata": {},
     "output_type": "execute_result"
    }
   ],
   "source": [
    "tokens[:10]"
   ]
  },
  {
   "cell_type": "code",
   "execution_count": 22,
   "metadata": {
    "collapsed": true
   },
   "outputs": [],
   "source": [
    "text = nltk.Text(tokens)"
   ]
  },
  {
   "cell_type": "code",
   "execution_count": 23,
   "metadata": {},
   "outputs": [
    {
     "data": {
      "text/plain": [
       "[u'an',\n",
       " u'exceptionally',\n",
       " u'hot',\n",
       " u'evening',\n",
       " u'early',\n",
       " u'in',\n",
       " u'July',\n",
       " u'a',\n",
       " u'young',\n",
       " u'man',\n",
       " u'came',\n",
       " u'out',\n",
       " u'of',\n",
       " u'the',\n",
       " u'garret',\n",
       " u'in',\n",
       " u'which',\n",
       " u'he',\n",
       " u'lodged',\n",
       " u'in',\n",
       " u'S.',\n",
       " u'Place',\n",
       " u'and',\n",
       " u'walked',\n",
       " u'slowly',\n",
       " u',',\n",
       " u'as',\n",
       " u'though',\n",
       " u'in',\n",
       " u'hesitation',\n",
       " u',',\n",
       " u'towards',\n",
       " u'K.',\n",
       " u'bridge',\n",
       " u'.',\n",
       " u'He',\n",
       " u'had',\n",
       " u'successfully']"
      ]
     },
     "execution_count": 23,
     "metadata": {},
     "output_type": "execute_result"
    }
   ],
   "source": [
    "text[1024:1062]"
   ]
  },
  {
   "cell_type": "code",
   "execution_count": 27,
   "metadata": {},
   "outputs": [
    {
     "name": "stdout",
     "output_type": "stream",
     "text": [
      "Katerina Ivanovna; Pyotr Petrovitch; Pulcheria Alexandrovna; Avdotya\n",
      "Romanovna; Rodion Romanovitch; Marfa Petrovna; Sofya Semyonovna; old\n",
      "woman; Project Gutenberg-tm; Porfiry Petrovitch; Amalia Ivanovna;\n",
      "great deal; young man; Nikodim Fomitch; Ilya Petrovitch; Project\n",
      "Gutenberg; Andrey Semyonovitch; Hay Market; Dmitri Prokofitch; Good\n",
      "heavens\n"
     ]
    }
   ],
   "source": [
    "text.collocations()"
   ]
  },
  {
   "cell_type": "code",
   "execution_count": 28,
   "metadata": {},
   "outputs": [
    {
     "data": {
      "text/plain": [
       "5336"
      ]
     },
     "execution_count": 28,
     "metadata": {},
     "output_type": "execute_result"
    }
   ],
   "source": [
    "raw.find(\"PART I\")"
   ]
  },
  {
   "cell_type": "code",
   "execution_count": 30,
   "metadata": {},
   "outputs": [
    {
     "data": {
      "text/plain": [
       "u'<!doctype html public \"-//W3C//DTD HTML 4.0 Transi'"
      ]
     },
     "execution_count": 30,
     "metadata": {},
     "output_type": "execute_result"
    }
   ],
   "source": [
    "url = \"http://news.bbc.co.uk/2/hi/health/2284783.stm\"\n",
    "html = urlopen(url).read().decode('utf8')\n",
    "html[:50]"
   ]
  },
  {
   "cell_type": "code",
   "execution_count": 36,
   "metadata": {},
   "outputs": [
    {
     "data": {
      "text/plain": [
       "[u'BBC',\n",
       " u'NEWS',\n",
       " u'|',\n",
       " u'Health',\n",
       " u'|',\n",
       " u'Blondes',\n",
       " u\"'to\",\n",
       " u'die',\n",
       " u'out',\n",
       " u'in']"
      ]
     },
     "execution_count": 36,
     "metadata": {},
     "output_type": "execute_result"
    }
   ],
   "source": [
    "raw = BeautifulSoup(html).get_text()\n",
    "tokens = word_tokenize(raw)\n",
    "tokens[:10]"
   ]
  },
  {
   "cell_type": "code",
   "execution_count": 37,
   "metadata": {},
   "outputs": [
    {
     "name": "stdout",
     "output_type": "stream",
     "text": [
      "Displaying 5 of 5 matches:\n",
      "hey say too few people now carry the gene for blondes to last beyond the next \n",
      "blonde hair is caused by a recessive gene . In order for a child to have blond\n",
      " have blonde hair , it must have the gene on both sides of the family in the g\n",
      "ere is a disadvantage of having that gene or by chance . They do n't disappear\n",
      "des would disappear is if having the gene was a disadvantage and I do not thin\n"
     ]
    }
   ],
   "source": [
    "tokens = tokens[110:390]\n",
    "text = nltk.Text(tokens)\n",
    "text.concordance('gene')"
   ]
  },
  {
   "cell_type": "code",
   "execution_count": 40,
   "metadata": {},
   "outputs": [
    {
     "name": "stdout",
     "output_type": "stream",
     "text": [
      "Language Log\n",
      "13\n",
      "Ethnography of academia\n"
     ]
    }
   ],
   "source": [
    "llog = feedparser.parse(\"http://languagelog.ldc.upenn.edu/nll/?feed=atom\")\n",
    "print llog['feed']['title']\n",
    "print len(llog.entries)\n",
    "post = llog.entries[2]\n",
    "print post.title"
   ]
  },
  {
   "cell_type": "code",
   "execution_count": 60,
   "metadata": {},
   "outputs": [
    {
     "name": "stdout",
     "output_type": "stream",
     "text": [
      "<p>ICYMI &#8212; Alexander C. Kafka, \"<a href=\"https://www.chronicle.c\n"
     ]
    },
    {
     "data": {
      "text/plain": [
       "[u'ICYMI',\n",
       " u'\\u2014',\n",
       " u'Alexander',\n",
       " u'C.',\n",
       " u'Kafka',\n",
       " u',',\n",
       " u'``',\n",
       " u'\\u2018',\n",
       " u'Sokal',\n",
       " u'Squared']"
      ]
     },
     "execution_count": 60,
     "metadata": {},
     "output_type": "execute_result"
    }
   ],
   "source": [
    "content = post.content[0].value\n",
    "print content[:70]\n",
    "raw = BeautifulSoup(content).get_text()\n",
    "tokens = word_tokenize(raw)\n",
    "tokens[:10]"
   ]
  },
  {
   "cell_type": "code",
   "execution_count": 61,
   "metadata": {},
   "outputs": [
    {
     "data": {
      "text/plain": [
       "[u'Alexander',\n",
       " u'Example',\n",
       " u'Chronicle',\n",
       " u'called',\n",
       " u'leftist',\n",
       " u'Helen',\n",
       " u'exile',\n",
       " u'relevant',\n",
       " u'Schuessler',\n",
       " u'called',\n",
       " u'Roles',\n",
       " u'table',\n",
       " u'while',\n",
       " u'titled',\n",
       " u'Struggle',\n",
       " u'Struggle',\n",
       " u'Hitler',\n",
       " u'unleashed',\n",
       " u'revealed',\n",
       " u'labeled',\n",
       " u'Helen',\n",
       " u'reflexive',\n",
       " u'reflecting',\n",
       " u'whole',\n",
       " u'Helen',\n",
       " u'intellectually']"
      ]
     },
     "execution_count": 61,
     "metadata": {},
     "output_type": "execute_result"
    }
   ],
   "source": [
    "[w for w in tokens if re.search(u'le', w)]"
   ]
  },
  {
   "cell_type": "code",
   "execution_count": 63,
   "metadata": {},
   "outputs": [
    {
     "name": "stdout",
     "output_type": "stream",
     "text": [
      "['u', 'e', 'a', 'i', 'a', 'i', 'i', 'i', 'e', 'i', 'a', 'i', 'o', 'i', 'o', 'u']\n",
      "16\n"
     ]
    }
   ],
   "source": [
    "word = 'supercalifragilisticexpialidocious'\n",
    "print re.findall(r'[aeiou]', word)\n",
    "print len(re.findall(r'[aeiou]', word))"
   ]
  },
  {
   "cell_type": "code",
   "execution_count": 66,
   "metadata": {},
   "outputs": [
    {
     "data": {
      "text/plain": [
       "[(u'ea', 15),\n",
       " (u'ou', 15),\n",
       " (u'ie', 10),\n",
       " (u'ia', 9),\n",
       " (u'ai', 8),\n",
       " (u'oa', 6),\n",
       " (u'io', 6),\n",
       " (u'ee', 6),\n",
       " (u'eo', 5),\n",
       " (u'ua', 4),\n",
       " (u'iou', 3),\n",
       " (u'ue', 3)]"
      ]
     },
     "execution_count": 66,
     "metadata": {},
     "output_type": "execute_result"
    }
   ],
   "source": [
    "wsj = sorted(set(tokens))\n",
    "fd = nltk.FreqDist(vs for word in wsj for vs in re.findall(r'[aeiou]{2,}', word))\n",
    "fd.most_common(12)"
   ]
  },
  {
   "cell_type": "code",
   "execution_count": 70,
   "metadata": {},
   "outputs": [
    {
     "name": "stdout",
     "output_type": "stream",
     "text": [
      "ICYMI — Alxndr C. Kfka , `` ‘ Skl Sqrd ’ : Is Hge \n"
     ]
    }
   ],
   "source": [
    "regexp = r'^[AEIOUaeiou]+|[AEIOUaeiou]+$|[^AEIOUaeiou]'\n",
    "\n",
    "def compress(word):\n",
    "    pieces = re.findall(regexp, word)\n",
    "    return ''.join(pieces)\n",
    "\n",
    "print nltk.tokenwrap(compress(w) for w in tokens)[:50]"
   ]
  },
  {
   "cell_type": "code",
   "execution_count": 71,
   "metadata": {},
   "outputs": [
    {
     "name": "stdout",
     "output_type": "stream",
     "text": [
      "   a  e  i  o  u \n",
      "k  3  8  2  0  0 \n",
      "p 11 12  1  0  7 \n",
      "r 10 32 15 19  3 \n",
      "s  6 17 10  6  4 \n",
      "t 10 25 21 18 13 \n",
      "v  6 13  5  1  0 \n"
     ]
    }
   ],
   "source": [
    "cvs = [cv for w in tokens for cv in re.findall(r'[ptksvr][aeiou]', w)]\n",
    "cfd = nltk.ConditionalFreqDist(cvs)\n",
    "cfd.tabulate()"
   ]
  },
  {
   "cell_type": "code",
   "execution_count": 76,
   "metadata": {},
   "outputs": [
    {
     "name": "stdout",
     "output_type": "stream",
     "text": [
      "['ing']\n",
      "[('process', 'ing')]\n",
      "[('language', '')]\n"
     ]
    }
   ],
   "source": [
    "def stem(word):\n",
    "    for suffix in ['ing', 'ly', 'ed', 'ious', 'ies', 'ive', 'es', 's', 'ment']:\n",
    "        if word.endswith(suffix):\n",
    "            return word[:-len(suffix)]\n",
    "    return word\n",
    "print re.findall(r'^.*(ing|ly|ed|ious|ies|ive|es|s|ment)$', 'processing')\n",
    "print re.findall(r'^(.*)(ing|ly|ed|ious|ies|ive|es|s|ment)$', 'processing')\n",
    "print re.findall(r'^(.*?)(ing|ly|ed|ious|ies|ive|es|s|ment)?$', 'language')"
   ]
  },
  {
   "cell_type": "code",
   "execution_count": 82,
   "metadata": {},
   "outputs": [
    {
     "name": "stdout",
     "output_type": "stream",
     "text": [
      "monied; nervous; dangerous; white; white; white; pious; queer; good;\n",
      "mature; white; Cape; great; wise; wise; butterless; white; fiendish;\n",
      "pale; furious; better; certain; complete; dismasted; younger; brave;\n",
      "brave; brave; brave\n",
      "None\n"
     ]
    }
   ],
   "source": [
    "moby = nltk.Text(gutenberg.words('melville-moby_dick.txt'))\n",
    "print moby.findall(r\"<a> (<.*>) <man>\")"
   ]
  },
  {
   "cell_type": "markdown",
   "metadata": {},
   "source": [
    "ЗАДАНИЕ"
   ]
  },
  {
   "cell_type": "code",
   "execution_count": 84,
   "metadata": {},
   "outputs": [
    {
     "name": "stdout",
     "output_type": "stream",
     "text": [
      "﻿The Project Gutenberg EBook of Crime an\n"
     ]
    }
   ],
   "source": [
    "url = \"http://www.gutenberg.org/files/2554/2554-0.txt\"\n",
    "response = urlopen(url)\n",
    "test_str = response.read().decode('utf8')\n",
    "print test_str[:40]"
   ]
  },
  {
   "cell_type": "code",
   "execution_count": 94,
   "metadata": {},
   "outputs": [
    {
     "name": "stdout",
     "output_type": "stream",
     "text": [
      "257726\n"
     ]
    }
   ],
   "source": [
    "tokens = word_tokenize(test_str)\n",
    "print len(tokens)"
   ]
  },
  {
   "cell_type": "code",
   "execution_count": 89,
   "metadata": {},
   "outputs": [
    {
     "name": "stdout",
     "output_type": "stream",
     "text": [
      "﻿The Project Gutenberg EBook of Crime and Punishme\n",
      "﻿Th Prjct Gtnbrg Bk f Crm nd Pnshmnt, b Fdr Dstvsk\n"
     ]
    }
   ],
   "source": [
    "pattern = r'[AEIOUYaeiouy]'\n",
    "print test_str[:50]\n",
    "print re.sub(pattern, '', test_str)[:50]"
   ]
  },
  {
   "cell_type": "code",
   "execution_count": 102,
   "metadata": {},
   "outputs": [
    {
     "name": "stdout",
     "output_type": "stream",
     "text": [
      "[u'\\ufeffThe', u'Project', u'Gutenberg', u'EBook', u'of', u'Crime', u'and', u'Punishment', u',', u'by', u'Fyodor', u'Dostoevsky', u'This', u'eBook', u'is', u'for', u'the', u'use', u'of', u'anyone', u'anywhere', u'at', u'no', u'cost', u'and', u'with', u'almost', u'no', u'restrictions', u'whatsoever', u'.', u'You', u'may', u'copy', u'it', u',', u'give', u'it', u'away', u'or', u're-use', u'it', u'under', u'the', u'terms', u'of', u'the', u'Project', u'Gutenberg', u'License']\n",
      "[u'encoding', u'hard-working', u'reading', u'Engineering', u'something', u'taking', u'reading', u'knowing', u'printing', u'Baring']\n"
     ]
    }
   ],
   "source": [
    "print tokens[:50]\n",
    "regex = re.compile(r'^.*ing$')\n",
    "print filter(lambda w: regex.search(w), tokens)[:10]"
   ]
  },
  {
   "cell_type": "code",
   "execution_count": 107,
   "metadata": {},
   "outputs": [
    {
     "name": "stdout",
     "output_type": "stream",
     "text": [
      "[u'\\ufeffThe', u'Project', u'Gutenberg', u'EBook', u'of', u'Crime', u'and', u'Punishment', u',', u'by', u'Fyodor', u'Dostoevsky', u'This', u'eBook', u'is', u'for', u'the', u'use', u'of', u'anyone', u'anywhere', u'at', u'no', u'cost', u'and', u'with', u'almost', u'no', u'restrictions', u'whatsoever', u'.', u'You', u'may', u'copy', u'it', u',', u'give', u'it', u'away', u'or', u're-use', u'it', u'under', u'the', u'terms', u'of', u'the', u'Project', u'Gutenberg', u'License']\n",
      "[u'encoded', u'hard-worked', u'readed', u'Engineered', u'somethed', u'taked', u'readed', u'knowed', u'printed', u'Bared']\n"
     ]
    }
   ],
   "source": [
    "print tokens[:50]\n",
    "regex = re.compile(r'^.*ing$')\n",
    "print map(lambda w: re.sub('ing$', 'ed', w), filter(lambda w: regex.search(w), tokens))[:10]"
   ]
  },
  {
   "cell_type": "code",
   "execution_count": null,
   "metadata": {
    "collapsed": true
   },
   "outputs": [],
   "source": []
  },
  {
   "cell_type": "code",
   "execution_count": null,
   "metadata": {
    "collapsed": true
   },
   "outputs": [],
   "source": []
  }
 ],
 "metadata": {
  "kernelspec": {
   "display_name": "Python 2",
   "language": "python",
   "name": "python2"
  },
  "language_info": {
   "codemirror_mode": {
    "name": "ipython",
    "version": 2
   },
   "file_extension": ".py",
   "mimetype": "text/x-python",
   "name": "python",
   "nbconvert_exporter": "python",
   "pygments_lexer": "ipython2",
   "version": "2.7.13"
  }
 },
 "nbformat": 4,
 "nbformat_minor": 2
}
